{
 "cells": [
  {
   "cell_type": "markdown",
   "metadata": {
    "collapsed": true
   },
   "source": [
    "# LSTM手写识别 \n",
    "```\n",
    "Author: PeterSansan\n",
    "Times : 2017-4-23\n",
    "```"
   ]
  },
  {
   "cell_type": "code",
   "execution_count": 1,
   "metadata": {
    "collapsed": false
   },
   "outputs": [
    {
     "name": "stdout",
     "output_type": "stream",
     "text": [
      "Extracting ./../mnist/MNIST_data/train-images-idx3-ubyte.gz\n",
      "Extracting ./../mnist/MNIST_data/train-labels-idx1-ubyte.gz\n",
      "Extracting ./../mnist/MNIST_data/t10k-images-idx3-ubyte.gz\n",
      "Extracting ./../mnist/MNIST_data/t10k-labels-idx1-ubyte.gz\n"
     ]
    }
   ],
   "source": [
    "from __future__ import print_function\n",
    "\n",
    "import tensorflow as tf\n",
    "from tensorflow.contrib import rnn\n",
    "\n",
    "# Import MNIST data\n",
    "from tensorflow.examples.tutorials.mnist import input_data\n",
    "mnist = input_data.read_data_sets(\"./../mnist/MNIST_data/\", one_hot=True)"
   ]
  },
  {
   "cell_type": "markdown",
   "metadata": {
    "collapsed": true
   },
   "source": [
    "为了有将我使用RNN网络，我们把原本28*28的图像，看成是28个序列的数据，每一个序列为一行，因此第一个数据样本我们会处理28个步与28个序列\n",
    "```\n",
    "To classify images using a reccurent neural network, we consider every image\n",
    "row as a sequence of pixels. Because MNIST image shape is 28*28px, we will then\n",
    "handle 28 sequences of 28 steps for every sample.\n",
    "```"
   ]
  },
  {
   "cell_type": "code",
   "execution_count": 2,
   "metadata": {
    "collapsed": false
   },
   "outputs": [
    {
     "name": "stdout",
     "output_type": "stream",
     "text": [
      "done\n"
     ]
    }
   ],
   "source": [
    "# Parameters\n",
    "learning_rate = 0.001\n",
    "training_iters = 100000\n",
    "batch_size = 128\n",
    "display_step = 10\n",
    "\n",
    "# Network Parameters\n",
    "n_input = 28 # MNIST data input (img shape: 28*28)\n",
    "n_steps = 28 # timesteps\n",
    "n_hidden = 128 # hidden layer num of features\n",
    "n_classes = 10 # MNIST total classes (0-9 digits)\n",
    "\n",
    "# tf Graph input\n",
    "x = tf.placeholder(\"float\", [None, n_steps, n_input])\n",
    "y = tf.placeholder(\"float\", [None, n_classes])\n",
    "\n",
    "# Define weights\n",
    "weights = {\n",
    "    'out': tf.Variable(tf.random_normal([n_hidden, n_classes]))\n",
    "}\n",
    "biases = {\n",
    "    'out': tf.Variable(tf.random_normal([n_classes]))\n",
    "}\n",
    "print(\"done\")"
   ]
  },
  {
   "cell_type": "code",
   "execution_count": 3,
   "metadata": {
    "collapsed": false
   },
   "outputs": [],
   "source": [
    "def RNN(x, weights, biases):\n",
    "\n",
    "    # Prepare data shape to match `rnn` function requirements\n",
    "    # Current data input shape: (batch_size, n_steps, n_input)\n",
    "    # Required shape: 'n_steps' tensors list of shape (batch_size, n_input)\n",
    "\n",
    "    # Unstack to get a list of 'n_steps' tensors of shape (batch_size, n_input)\n",
    "    x = tf.unstack(x, n_steps, 1)\n",
    "\n",
    "    # Define a lstm cell with tensorflow\n",
    "    lstm_cell = rnn.BasicLSTMCell(n_hidden, forget_bias=1.0)\n",
    "\n",
    "    # Get lstm cell output\n",
    "    outputs, states = rnn.static_rnn(lstm_cell, x, dtype=tf.float32)\n",
    "\n",
    "    # Linear activation, using rnn inner loop last output\n",
    "    return tf.matmul(outputs[-1], weights['out']) + biases['out']\n",
    "\n",
    "pred = RNN(x, weights, biases)\n",
    "\n",
    "# Define loss and optimizer\n",
    "cost = tf.reduce_mean(tf.nn.softmax_cross_entropy_with_logits(logits=pred, labels=y))\n",
    "optimizer = tf.train.AdamOptimizer(learning_rate=learning_rate).minimize(cost)\n",
    "\n",
    "# Evaluate model\n",
    "correct_pred = tf.equal(tf.argmax(pred,1), tf.argmax(y,1))\n",
    "accuracy = tf.reduce_mean(tf.cast(correct_pred, tf.float32))\n",
    "\n",
    "# Initializing the variables\n",
    "init = tf.global_variables_initializer()"
   ]
  },
  {
   "cell_type": "code",
   "execution_count": 4,
   "metadata": {
    "collapsed": false
   },
   "outputs": [
    {
     "name": "stdout",
     "output_type": "stream",
     "text": [
      "Iter 1280, Minibatch Loss= 1.809962, Training Accuracy= 0.42188\n",
      "Iter 2560, Minibatch Loss= 1.414086, Training Accuracy= 0.56250\n",
      "Iter 3840, Minibatch Loss= 1.171979, Training Accuracy= 0.63281\n",
      "Iter 5120, Minibatch Loss= 0.935353, Training Accuracy= 0.65625\n",
      "Iter 6400, Minibatch Loss= 0.751611, Training Accuracy= 0.75781\n",
      "Iter 7680, Minibatch Loss= 0.750197, Training Accuracy= 0.76562\n",
      "Iter 8960, Minibatch Loss= 0.711337, Training Accuracy= 0.75781\n",
      "Iter 10240, Minibatch Loss= 0.580597, Training Accuracy= 0.80469\n",
      "Iter 11520, Minibatch Loss= 0.506943, Training Accuracy= 0.81250\n",
      "Iter 12800, Minibatch Loss= 0.450546, Training Accuracy= 0.88281\n",
      "Iter 14080, Minibatch Loss= 0.387372, Training Accuracy= 0.85156\n",
      "Iter 15360, Minibatch Loss= 0.279240, Training Accuracy= 0.88281\n",
      "Iter 16640, Minibatch Loss= 0.269640, Training Accuracy= 0.92969\n",
      "Iter 17920, Minibatch Loss= 0.441462, Training Accuracy= 0.87500\n",
      "Iter 19200, Minibatch Loss= 0.371776, Training Accuracy= 0.89062\n",
      "Iter 20480, Minibatch Loss= 0.271990, Training Accuracy= 0.92188\n",
      "Iter 21760, Minibatch Loss= 0.329009, Training Accuracy= 0.89844\n",
      "Iter 23040, Minibatch Loss= 0.376556, Training Accuracy= 0.89844\n",
      "Iter 24320, Minibatch Loss= 0.336622, Training Accuracy= 0.88281\n",
      "Iter 25600, Minibatch Loss= 0.307901, Training Accuracy= 0.89062\n",
      "Iter 26880, Minibatch Loss= 0.310366, Training Accuracy= 0.92969\n",
      "Iter 28160, Minibatch Loss= 0.169340, Training Accuracy= 0.94531\n",
      "Iter 29440, Minibatch Loss= 0.251503, Training Accuracy= 0.92969\n",
      "Iter 30720, Minibatch Loss= 0.226285, Training Accuracy= 0.92188\n",
      "Iter 32000, Minibatch Loss= 0.299113, Training Accuracy= 0.90625\n",
      "Iter 33280, Minibatch Loss= 0.203141, Training Accuracy= 0.90625\n",
      "Iter 34560, Minibatch Loss= 0.253155, Training Accuracy= 0.91406\n",
      "Iter 35840, Minibatch Loss= 0.154427, Training Accuracy= 0.95312\n",
      "Iter 37120, Minibatch Loss= 0.235611, Training Accuracy= 0.92969\n",
      "Iter 38400, Minibatch Loss= 0.163889, Training Accuracy= 0.94531\n",
      "Iter 39680, Minibatch Loss= 0.253250, Training Accuracy= 0.91406\n",
      "Iter 40960, Minibatch Loss= 0.235032, Training Accuracy= 0.89844\n",
      "Iter 42240, Minibatch Loss= 0.239804, Training Accuracy= 0.92969\n",
      "Iter 43520, Minibatch Loss= 0.112585, Training Accuracy= 0.97656\n",
      "Iter 44800, Minibatch Loss= 0.167199, Training Accuracy= 0.95312\n",
      "Iter 46080, Minibatch Loss= 0.164305, Training Accuracy= 0.95312\n",
      "Iter 47360, Minibatch Loss= 0.184045, Training Accuracy= 0.92188\n",
      "Iter 48640, Minibatch Loss= 0.082830, Training Accuracy= 0.99219\n",
      "Iter 49920, Minibatch Loss= 0.137689, Training Accuracy= 0.96875\n",
      "Iter 51200, Minibatch Loss= 0.127223, Training Accuracy= 0.94531\n",
      "Iter 52480, Minibatch Loss= 0.224766, Training Accuracy= 0.92969\n",
      "Iter 53760, Minibatch Loss= 0.118259, Training Accuracy= 0.94531\n",
      "Iter 55040, Minibatch Loss= 0.207376, Training Accuracy= 0.93750\n",
      "Iter 56320, Minibatch Loss= 0.180501, Training Accuracy= 0.95312\n",
      "Iter 57600, Minibatch Loss= 0.109362, Training Accuracy= 0.95312\n",
      "Iter 58880, Minibatch Loss= 0.138547, Training Accuracy= 0.95312\n",
      "Iter 60160, Minibatch Loss= 0.103868, Training Accuracy= 0.96094\n",
      "Iter 61440, Minibatch Loss= 0.188239, Training Accuracy= 0.92188\n",
      "Iter 62720, Minibatch Loss= 0.141782, Training Accuracy= 0.96094\n",
      "Iter 64000, Minibatch Loss= 0.042510, Training Accuracy= 0.98438\n",
      "Iter 65280, Minibatch Loss= 0.084267, Training Accuracy= 0.97656\n",
      "Iter 66560, Minibatch Loss= 0.069748, Training Accuracy= 0.97656\n",
      "Iter 67840, Minibatch Loss= 0.057196, Training Accuracy= 0.99219\n",
      "Iter 69120, Minibatch Loss= 0.065434, Training Accuracy= 0.98438\n",
      "Iter 70400, Minibatch Loss= 0.080515, Training Accuracy= 0.97656\n",
      "Iter 71680, Minibatch Loss= 0.125223, Training Accuracy= 0.96094\n",
      "Iter 72960, Minibatch Loss= 0.071317, Training Accuracy= 0.97656\n",
      "Iter 74240, Minibatch Loss= 0.109474, Training Accuracy= 0.98438\n",
      "Iter 75520, Minibatch Loss= 0.085166, Training Accuracy= 0.96094\n",
      "Iter 76800, Minibatch Loss= 0.141645, Training Accuracy= 0.95312\n",
      "Iter 78080, Minibatch Loss= 0.112021, Training Accuracy= 0.96875\n",
      "Iter 79360, Minibatch Loss= 0.088491, Training Accuracy= 0.98438\n",
      "Iter 80640, Minibatch Loss= 0.120592, Training Accuracy= 0.96094\n",
      "Iter 81920, Minibatch Loss= 0.122768, Training Accuracy= 0.96875\n",
      "Iter 83200, Minibatch Loss= 0.119551, Training Accuracy= 0.97656\n",
      "Iter 84480, Minibatch Loss= 0.037680, Training Accuracy= 0.98438\n",
      "Iter 85760, Minibatch Loss= 0.098212, Training Accuracy= 0.96094\n",
      "Iter 87040, Minibatch Loss= 0.078883, Training Accuracy= 0.96094\n",
      "Iter 88320, Minibatch Loss= 0.128041, Training Accuracy= 0.95312\n",
      "Iter 89600, Minibatch Loss= 0.051044, Training Accuracy= 0.98438\n",
      "Iter 90880, Minibatch Loss= 0.175804, Training Accuracy= 0.95312\n",
      "Iter 92160, Minibatch Loss= 0.052371, Training Accuracy= 0.98438\n",
      "Iter 93440, Minibatch Loss= 0.169322, Training Accuracy= 0.96094\n",
      "Iter 94720, Minibatch Loss= 0.089062, Training Accuracy= 0.96875\n",
      "Iter 96000, Minibatch Loss= 0.065058, Training Accuracy= 0.96875\n",
      "Iter 97280, Minibatch Loss= 0.074386, Training Accuracy= 0.96875\n",
      "Iter 98560, Minibatch Loss= 0.096605, Training Accuracy= 0.97656\n",
      "Iter 99840, Minibatch Loss= 0.076044, Training Accuracy= 0.97656\n",
      "Optimization Finished!\n",
      "Testing Accuracy: 0.992188\n"
     ]
    }
   ],
   "source": [
    "# Launch the graph\n",
    "with tf.Session() as sess:\n",
    "    sess.run(init)\n",
    "    step = 1\n",
    "    # Keep training until reach max iterations\n",
    "    while step * batch_size < training_iters:\n",
    "        batch_x, batch_y = mnist.train.next_batch(batch_size)\n",
    "        # Reshape data to get 28 seq of 28 elements\n",
    "        batch_x = batch_x.reshape((batch_size, n_steps, n_input))\n",
    "        # Run optimization op (backprop)\n",
    "        sess.run(optimizer, feed_dict={x: batch_x, y: batch_y})\n",
    "        if step % display_step == 0:\n",
    "            # Calculate batch accuracy\n",
    "            acc = sess.run(accuracy, feed_dict={x: batch_x, y: batch_y})\n",
    "            # Calculate batch loss\n",
    "            loss = sess.run(cost, feed_dict={x: batch_x, y: batch_y})\n",
    "            print(\"Iter \" + str(step*batch_size) + \", Minibatch Loss= \" + \\\n",
    "                  \"{:.6f}\".format(loss) + \", Training Accuracy= \" + \\\n",
    "                  \"{:.5f}\".format(acc))\n",
    "        step += 1\n",
    "    print(\"Optimization Finished!\")\n",
    "\n",
    "    # Calculate accuracy for 128 mnist test images\n",
    "    test_len = 128\n",
    "    test_data = mnist.test.images[:test_len].reshape((-1, n_steps, n_input))\n",
    "    test_label = mnist.test.labels[:test_len]\n",
    "    print(\"Testing Accuracy:\", \\\n",
    "        sess.run(accuracy, feed_dict={x: test_data, y: test_label}))\n"
   ]
  },
  {
   "cell_type": "code",
   "execution_count": null,
   "metadata": {
    "collapsed": true
   },
   "outputs": [],
   "source": []
  }
 ],
 "metadata": {
  "kernelspec": {
   "display_name": "Python 2",
   "language": "python",
   "name": "python2"
  },
  "language_info": {
   "codemirror_mode": {
    "name": "ipython",
    "version": 2
   },
   "file_extension": ".py",
   "mimetype": "text/x-python",
   "name": "python",
   "nbconvert_exporter": "python",
   "pygments_lexer": "ipython2",
   "version": "2.7.6"
  }
 },
 "nbformat": 4,
 "nbformat_minor": 0
}
