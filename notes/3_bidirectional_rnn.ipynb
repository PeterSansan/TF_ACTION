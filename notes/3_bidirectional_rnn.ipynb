{
 "cells": [
  {
   "cell_type": "markdown",
   "metadata": {
    "collapsed": true
   },
   "source": [
    "# BiLstm手写识别[<img src=\"http://ogtxggxo6.bkt.clouddn.com/home.jpg?imageView2/2/h/30\" align=\"right\"/>](http://petersansan.top)\n",
    "```\n",
    "Author: PeterSansan\n",
    "Times :2017-04-23\n",
    "```"
   ]
  },
  {
   "cell_type": "code",
   "execution_count": 1,
   "metadata": {
    "collapsed": false
   },
   "outputs": [
    {
     "name": "stdout",
     "output_type": "stream",
     "text": [
      "Extracting ./../mnist/MNIST_data/train-images-idx3-ubyte.gz\n",
      "Extracting ./../mnist/MNIST_data/train-labels-idx1-ubyte.gz\n",
      "Extracting ./../mnist/MNIST_data/t10k-images-idx3-ubyte.gz\n",
      "Extracting ./../mnist/MNIST_data/t10k-labels-idx1-ubyte.gz\n"
     ]
    }
   ],
   "source": [
    "import tensorflow as tf\n",
    "from tensorflow.contrib import rnn\n",
    "import numpy as np\n",
    "\n",
    "# Import MINST data\n",
    "from tensorflow.examples.tutorials.mnist import input_data\n",
    "mnist = input_data.read_data_sets(\"./../mnist/MNIST_data/\", one_hot=True)"
   ]
  },
  {
   "cell_type": "markdown",
   "metadata": {
    "collapsed": true
   },
   "source": [
    "这里的处理与LSTM程序中的一样，也是把一个图像分成28个序列，每个序列长28\n",
    "```\n",
    "To classify images using a bidirectional reccurent neural network, we consider\n",
    "every image row as a sequence of pixels. Because MNIST image shape is 28*28px,\n",
    "we will then handle 28 sequences of 28 steps for every sample.\n",
    "```"
   ]
  },
  {
   "cell_type": "code",
   "execution_count": 2,
   "metadata": {
    "collapsed": false
   },
   "outputs": [
    {
     "name": "stdout",
     "output_type": "stream",
     "text": [
      "done\n"
     ]
    }
   ],
   "source": [
    "# Parameters\n",
    "learning_rate = 0.001\n",
    "training_iters = 100000\n",
    "batch_size = 128\n",
    "display_step = 10\n",
    "\n",
    "# Network Parameters\n",
    "n_input = 28 # MNIST data input (img shape: 28*28)\n",
    "n_steps = 28 # timesteps\n",
    "n_hidden = 128 # hidden layer num of features\n",
    "n_classes = 10 # MNIST total classes (0-9 digits)\n",
    "\n",
    "# tf Graph input\n",
    "x = tf.placeholder(\"float\", [None, n_steps, n_input])\n",
    "y = tf.placeholder(\"float\", [None, n_classes])\n",
    "\n",
    "# Define weights\n",
    "weights = {\n",
    "    # Hidden layer weights => 2*n_hidden because of foward + backward cells\n",
    "    'out': tf.Variable(tf.random_normal([2*n_hidden, n_classes]))\n",
    "}\n",
    "biases = {\n",
    "    'out': tf.Variable(tf.random_normal([n_classes]))\n",
    "}\n",
    "print(\"done\")"
   ]
  },
  {
   "cell_type": "code",
   "execution_count": 3,
   "metadata": {
    "collapsed": false
   },
   "outputs": [],
   "source": [
    "def BiRNN(x, weights, biases):\n",
    "\n",
    "    # Prepare data shape to match `bidirectional_rnn` function requirements\n",
    "    # Current data input shape: (batch_size, n_steps, n_input)\n",
    "    # Required shape: 'n_steps' tensors list of shape (batch_size, n_input)\n",
    "    \n",
    "    # Unstack to get a list of 'n_steps' tensors of shape (batch_size, n_input)\n",
    "    x = tf.unstack(x, n_steps, 1)\n",
    "\n",
    "    # Define lstm cells with tensorflow\n",
    "    # Forward direction cell\n",
    "    lstm_fw_cell = rnn.BasicLSTMCell(n_hidden, forget_bias=1.0)\n",
    "    # Backward direction cell\n",
    "    lstm_bw_cell = rnn.BasicLSTMCell(n_hidden, forget_bias=1.0)\n",
    "\n",
    "    # Get lstm cell output\n",
    "    try:\n",
    "        outputs, _, _ = rnn.static_bidirectional_rnn(lstm_fw_cell, lstm_bw_cell, x,\n",
    "                                              dtype=tf.float32)\n",
    "    except Exception: # Old TensorFlow version only returns outputs not states\n",
    "        outputs = rnn.static_bidirectional_rnn(lstm_fw_cell, lstm_bw_cell, x,\n",
    "                                        dtype=tf.float32)\n",
    "\n",
    "    # Linear activation, using rnn inner loop last output\n",
    "    return tf.matmul(outputs[-1], weights['out']) + biases['out']\n",
    "\n",
    "pred = BiRNN(x, weights, biases)\n",
    "\n",
    "# Define loss and optimizer\n",
    "cost = tf.reduce_mean(tf.nn.softmax_cross_entropy_with_logits(logits=pred, labels=y))\n",
    "optimizer = tf.train.AdamOptimizer(learning_rate=learning_rate).minimize(cost)\n",
    "\n",
    "# Evaluate model\n",
    "correct_pred = tf.equal(tf.argmax(pred,1), tf.argmax(y,1))\n",
    "accuracy = tf.reduce_mean(tf.cast(correct_pred, tf.float32))\n",
    "\n",
    "# Initializing the variables\n",
    "init = tf.global_variables_initializer()"
   ]
  },
  {
   "cell_type": "code",
   "execution_count": 4,
   "metadata": {
    "collapsed": false
   },
   "outputs": [
    {
     "name": "stdout",
     "output_type": "stream",
     "text": [
      "Iter 1280, Minibatch Loss= 1.941263, Training Accuracy= 0.35156\n",
      "Iter 2560, Minibatch Loss= 1.426232, Training Accuracy= 0.53906\n",
      "Iter 3840, Minibatch Loss= 1.282442, Training Accuracy= 0.57812\n",
      "Iter 5120, Minibatch Loss= 1.151229, Training Accuracy= 0.66406\n",
      "Iter 6400, Minibatch Loss= 0.758029, Training Accuracy= 0.76562\n",
      "Iter 7680, Minibatch Loss= 0.828590, Training Accuracy= 0.71875\n",
      "Iter 8960, Minibatch Loss= 0.550428, Training Accuracy= 0.82031\n",
      "Iter 10240, Minibatch Loss= 0.512208, Training Accuracy= 0.82812\n",
      "Iter 11520, Minibatch Loss= 0.449139, Training Accuracy= 0.88281\n",
      "Iter 12800, Minibatch Loss= 0.369014, Training Accuracy= 0.85938\n",
      "Iter 14080, Minibatch Loss= 0.447119, Training Accuracy= 0.82812\n",
      "Iter 15360, Minibatch Loss= 0.515295, Training Accuracy= 0.83594\n",
      "Iter 16640, Minibatch Loss= 0.354486, Training Accuracy= 0.89062\n",
      "Iter 17920, Minibatch Loss= 0.475124, Training Accuracy= 0.83594\n",
      "Iter 19200, Minibatch Loss= 0.356262, Training Accuracy= 0.86719\n",
      "Iter 20480, Minibatch Loss= 0.241917, Training Accuracy= 0.89844\n",
      "Iter 21760, Minibatch Loss= 0.358523, Training Accuracy= 0.87500\n",
      "Iter 23040, Minibatch Loss= 0.364869, Training Accuracy= 0.87500\n",
      "Iter 24320, Minibatch Loss= 0.313130, Training Accuracy= 0.90625\n",
      "Iter 25600, Minibatch Loss= 0.339673, Training Accuracy= 0.88281\n",
      "Iter 26880, Minibatch Loss= 0.233330, Training Accuracy= 0.94531\n",
      "Iter 28160, Minibatch Loss= 0.203094, Training Accuracy= 0.92188\n",
      "Iter 29440, Minibatch Loss= 0.264169, Training Accuracy= 0.92969\n",
      "Iter 30720, Minibatch Loss= 0.272531, Training Accuracy= 0.90625\n",
      "Iter 32000, Minibatch Loss= 0.163827, Training Accuracy= 0.95312\n",
      "Iter 33280, Minibatch Loss= 0.203027, Training Accuracy= 0.94531\n",
      "Iter 34560, Minibatch Loss= 0.172019, Training Accuracy= 0.93750\n",
      "Iter 35840, Minibatch Loss= 0.217207, Training Accuracy= 0.93750\n",
      "Iter 37120, Minibatch Loss= 0.201925, Training Accuracy= 0.92188\n",
      "Iter 38400, Minibatch Loss= 0.166758, Training Accuracy= 0.93750\n",
      "Iter 39680, Minibatch Loss= 0.183436, Training Accuracy= 0.94531\n",
      "Iter 40960, Minibatch Loss= 0.295379, Training Accuracy= 0.92188\n",
      "Iter 42240, Minibatch Loss= 0.162376, Training Accuracy= 0.93750\n",
      "Iter 43520, Minibatch Loss= 0.170386, Training Accuracy= 0.95312\n",
      "Iter 44800, Minibatch Loss= 0.146952, Training Accuracy= 0.94531\n",
      "Iter 46080, Minibatch Loss= 0.092953, Training Accuracy= 0.99219\n",
      "Iter 47360, Minibatch Loss= 0.195432, Training Accuracy= 0.95312\n",
      "Iter 48640, Minibatch Loss= 0.197049, Training Accuracy= 0.94531\n",
      "Iter 49920, Minibatch Loss= 0.089970, Training Accuracy= 0.96094\n",
      "Iter 51200, Minibatch Loss= 0.113626, Training Accuracy= 0.96875\n",
      "Iter 52480, Minibatch Loss= 0.177879, Training Accuracy= 0.93750\n",
      "Iter 53760, Minibatch Loss= 0.080947, Training Accuracy= 0.96875\n",
      "Iter 55040, Minibatch Loss= 0.224231, Training Accuracy= 0.92969\n",
      "Iter 56320, Minibatch Loss= 0.072099, Training Accuracy= 0.97656\n",
      "Iter 57600, Minibatch Loss= 0.245751, Training Accuracy= 0.93750\n",
      "Iter 58880, Minibatch Loss= 0.145778, Training Accuracy= 0.96094\n",
      "Iter 60160, Minibatch Loss= 0.237790, Training Accuracy= 0.94531\n",
      "Iter 61440, Minibatch Loss= 0.106063, Training Accuracy= 0.96094\n",
      "Iter 62720, Minibatch Loss= 0.078221, Training Accuracy= 0.96875\n",
      "Iter 64000, Minibatch Loss= 0.164467, Training Accuracy= 0.96094\n",
      "Iter 65280, Minibatch Loss= 0.084930, Training Accuracy= 0.97656\n",
      "Iter 66560, Minibatch Loss= 0.120077, Training Accuracy= 0.96094\n",
      "Iter 67840, Minibatch Loss= 0.283457, Training Accuracy= 0.92969\n",
      "Iter 69120, Minibatch Loss= 0.121582, Training Accuracy= 0.96094\n",
      "Iter 70400, Minibatch Loss= 0.163483, Training Accuracy= 0.92969\n",
      "Iter 71680, Minibatch Loss= 0.157904, Training Accuracy= 0.93750\n",
      "Iter 72960, Minibatch Loss= 0.095715, Training Accuracy= 0.96875\n",
      "Iter 74240, Minibatch Loss= 0.128474, Training Accuracy= 0.94531\n",
      "Iter 75520, Minibatch Loss= 0.164349, Training Accuracy= 0.96875\n",
      "Iter 76800, Minibatch Loss= 0.109466, Training Accuracy= 0.96094\n",
      "Iter 78080, Minibatch Loss= 0.088493, Training Accuracy= 0.97656\n",
      "Iter 79360, Minibatch Loss= 0.027326, Training Accuracy= 1.00000\n",
      "Iter 80640, Minibatch Loss= 0.184739, Training Accuracy= 0.92188\n",
      "Iter 81920, Minibatch Loss= 0.091748, Training Accuracy= 0.97656\n",
      "Iter 83200, Minibatch Loss= 0.097307, Training Accuracy= 0.96094\n",
      "Iter 84480, Minibatch Loss= 0.129336, Training Accuracy= 0.96094\n",
      "Iter 85760, Minibatch Loss= 0.090250, Training Accuracy= 0.97656\n",
      "Iter 87040, Minibatch Loss= 0.104507, Training Accuracy= 0.96094\n",
      "Iter 88320, Minibatch Loss= 0.148461, Training Accuracy= 0.96094\n",
      "Iter 89600, Minibatch Loss= 0.057499, Training Accuracy= 0.97656\n",
      "Iter 90880, Minibatch Loss= 0.087600, Training Accuracy= 0.97656\n",
      "Iter 92160, Minibatch Loss= 0.071825, Training Accuracy= 0.98438\n",
      "Iter 93440, Minibatch Loss= 0.118983, Training Accuracy= 0.95312\n",
      "Iter 94720, Minibatch Loss= 0.100284, Training Accuracy= 0.96875\n",
      "Iter 96000, Minibatch Loss= 0.092251, Training Accuracy= 0.98438\n",
      "Iter 97280, Minibatch Loss= 0.042759, Training Accuracy= 0.97656\n",
      "Iter 98560, Minibatch Loss= 0.187843, Training Accuracy= 0.95312\n",
      "Iter 99840, Minibatch Loss= 0.032627, Training Accuracy= 0.98438\n",
      "Optimization Finished!\n",
      "Testing Accuracy: 0.992188\n"
     ]
    }
   ],
   "source": [
    "# Launch the graph\n",
    "with tf.Session() as sess:\n",
    "    sess.run(init)\n",
    "    step = 1\n",
    "    # Keep training until reach max iterations\n",
    "    while step * batch_size < training_iters:\n",
    "        batch_x, batch_y = mnist.train.next_batch(batch_size)\n",
    "        # Reshape data to get 28 seq of 28 elements\n",
    "        batch_x = batch_x.reshape((batch_size, n_steps, n_input))\n",
    "        # Run optimization op (backprop)\n",
    "        sess.run(optimizer, feed_dict={x: batch_x, y: batch_y})\n",
    "        if step % display_step == 0:\n",
    "            # Calculate batch accuracy\n",
    "            acc = sess.run(accuracy, feed_dict={x: batch_x, y: batch_y})\n",
    "            # Calculate batch loss\n",
    "            loss = sess.run(cost, feed_dict={x: batch_x, y: batch_y})\n",
    "            print \"Iter \" + str(step*batch_size) + \", Minibatch Loss= \" + \\\n",
    "                  \"{:.6f}\".format(loss) + \", Training Accuracy= \" + \\\n",
    "                  \"{:.5f}\".format(acc)\n",
    "        step += 1\n",
    "    print \"Optimization Finished!\"\n",
    "\n",
    "    # Calculate accuracy for 128 mnist test images\n",
    "    test_len = 128\n",
    "    test_data = mnist.test.images[:test_len].reshape((-1, n_steps, n_input))\n",
    "    test_label = mnist.test.labels[:test_len]\n",
    "    print \"Testing Accuracy:\", \\\n",
    "        sess.run(accuracy, feed_dict={x: test_data, y: test_label})"
   ]
  },
  {
   "cell_type": "markdown",
   "metadata": {},
   "source": [
    "双向LSTM的代码几乎与单向LSTM代码一样，只是模型定向时使用的函数不同，但是这里封装了LSTM的实现，并不能更为详细的看到了内部的实现，只能通过查看源码或相关论文。\n",
    "\n",
    "[<img src=\"http://ogtxggxo6.bkt.clouddn.com/home.jpg?imageView2/2/h/30\" align=\"left\"/>](http://petersansan.top)"
   ]
  }
 ],
 "metadata": {
  "kernelspec": {
   "display_name": "Python 2",
   "language": "python",
   "name": "python2"
  },
  "language_info": {
   "codemirror_mode": {
    "name": "ipython",
    "version": 2
   },
   "file_extension": ".py",
   "mimetype": "text/x-python",
   "name": "python",
   "nbconvert_exporter": "python",
   "pygments_lexer": "ipython2",
   "version": "2.7.6"
  }
 },
 "nbformat": 4,
 "nbformat_minor": 0
}
