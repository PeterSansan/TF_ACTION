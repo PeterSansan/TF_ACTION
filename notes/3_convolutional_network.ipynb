{
 "cells": [
  {
   "cell_type": "markdown",
   "metadata": {
    "collapsed": true
   },
   "source": [
    "# CNN手写识别\n",
    "```\n",
    "Author: PeterSansan\n",
    "Time : 2017-4-29\n",
    "```\n",
    "这个例子的数据输入输出是这样变化的：\n",
    "- 1）首先输入是一张28*28的图片 \n",
    "- 2)第一层先通过一层卷积层，卷积层核大小为2x2，输出为32个通道（即32个特征），这样第一层卷积层输出后为[32,28,28]的数据，即可看成是32张图片  \n",
    "- 3)再经过2x2模板的最大池化，输出为[32,14,14]的数据，即下采样了一次\n",
    "- 4)第二层先通过一层卷积层，卷积层核大小为2x2，输出为64个通道（即64个特征），这样第二层卷积层输出为64x14x14的数据，即可看成是64张下采样后的图片\n",
    "- 5）再经过2x2模板的最大池化，输出为64x7x7的数据\n",
    "- 6)最后，把数据reshape展开一维数据[64x7x7]\n",
    "- 7)加一层dropout层\n",
    "- 8）输出为类别为10的softmax层"
   ]
  },
  {
   "cell_type": "code",
   "execution_count": 2,
   "metadata": {
    "collapsed": false
   },
   "outputs": [
    {
     "name": "stdout",
     "output_type": "stream",
     "text": [
      "Extracting ./../mnist/MNIST_data/train-images-idx3-ubyte.gz\n",
      "Extracting ./../mnist/MNIST_data/train-labels-idx1-ubyte.gz\n",
      "Extracting ./../mnist/MNIST_data/t10k-images-idx3-ubyte.gz\n",
      "Extracting ./../mnist/MNIST_data/t10k-labels-idx1-ubyte.gz\n"
     ]
    }
   ],
   "source": [
    "import tensorflow as tf\n",
    "\n",
    "# Import MNIST data\n",
    "from tensorflow.examples.tutorials.mnist import input_data\n",
    "mnist = input_data.read_data_sets(\"./../mnist/MNIST_data/\", one_hot=True)"
   ]
  },
  {
   "cell_type": "code",
   "execution_count": 3,
   "metadata": {
    "collapsed": true
   },
   "outputs": [],
   "source": [
    "# Parameters\n",
    "learning_rate = 0.001\n",
    "training_iters = 100000\n",
    "batch_size = 128\n",
    "display_step = 10\n",
    "\n",
    "# Network Parameters\n",
    "n_input = 784 # MNIST data input (img shape: 28*28)\n",
    "n_classes = 10 # MNIST total classes (0-9 digits)\n",
    "dropout = 0.75 # Dropout, probability to keep units\n",
    "\n",
    "# tf Graph input\n",
    "x = tf.placeholder(tf.float32, [None, n_input])\n",
    "y = tf.placeholder(tf.float32, [None, n_classes])\n",
    "keep_prob = tf.placeholder(tf.float32) #dropout (keep probability)"
   ]
  },
  {
   "cell_type": "markdown",
   "metadata": {},
   "source": [
    "### 卷积和池化\n",
    "这部分卷积最难理解\n",
    "\n",
    "TensorFlow在卷积和池化上有很强的灵活性。我们怎么处理边界？步长应该设多大？在这个实例里，我们会一直使用vanilla版本。我们的卷积使用1步长（stride size），0边距（padding size）的模板，保证输出和输入是同一个大小。我们的池化用简单传统的2x2大小的模板做max pooling。为了代码更简洁，我们把这部分抽象成一个函数。"
   ]
  },
  {
   "cell_type": "code",
   "execution_count": 7,
   "metadata": {
    "collapsed": true
   },
   "outputs": [],
   "source": [
    "# Create some wrappers for simplicity\n",
    "def conv2d(x, W, b, strides=1):\n",
    "    # Conv2D wrapper, with bias and relu activation\n",
    "    x = tf.nn.conv2d(x, W, strides=[1, strides, strides, 1], padding='SAME')\n",
    "    x = tf.nn.bias_add(x, b)\n",
    "    return tf.nn.relu(x)    #这个卷积函数后面加入relu函数\n",
    "\n",
    "\n",
    "def maxpool2d(x, k=2):\n",
    "    # MaxPool2D wrapper\n",
    "    return tf.nn.max_pool(x, ksize=[1, k, k, 1], strides=[1, k, k, 1],\n",
    "                          padding='SAME')\n",
    "\n",
    "\n",
    "# Create model\n",
    "def conv_net(x, weights, biases, dropout):\n",
    "    # Reshape input picture\n",
    "    x = tf.reshape(x, shape=[-1, 28, 28, 1])\n",
    "\n",
    "    # Convolution Layer\n",
    "    conv1 = conv2d(x, weights['wc1'], biases['bc1'])\n",
    "    # Max Pooling (down-sampling)\n",
    "    conv1 = maxpool2d(conv1, k=2)\n",
    "\n",
    "    # Convolution Layer\n",
    "    conv2 = conv2d(conv1, weights['wc2'], biases['bc2'])\n",
    "    # Max Pooling (down-sampling)\n",
    "    conv2 = maxpool2d(conv2, k=2)\n",
    "\n",
    "    # Fully connected layer\n",
    "    # Reshape conv2 output to fit fully connected layer input\n",
    "    fc1 = tf.reshape(conv2, [-1, weights['wd1'].get_shape().as_list()[0]])\n",
    "    fc1 = tf.add(tf.matmul(fc1, weights['wd1']), biases['bd1'])\n",
    "    fc1 = tf.nn.relu(fc1)\n",
    "    # Apply Dropout\n",
    "    fc1 = tf.nn.dropout(fc1, dropout)\n",
    "\n",
    "    # Output, class prediction\n",
    "    out = tf.add(tf.matmul(fc1, weights['out']), biases['out'])\n",
    "    return out"
   ]
  },
  {
   "cell_type": "code",
   "execution_count": 6,
   "metadata": {
    "collapsed": true
   },
   "outputs": [],
   "source": [
    "# Store layers weight & bias\n",
    "weights = {\n",
    "    # 5x5 conv, 1 input, 32 outputs\n",
    "    'wc1': tf.Variable(tf.random_normal([5, 5, 1, 32])),\n",
    "    # 5x5 conv, 32 inputs, 64 outputs\n",
    "    'wc2': tf.Variable(tf.random_normal([5, 5, 32, 64])),\n",
    "    # fully connected, 7*7*64 inputs, 1024 outputs\n",
    "    'wd1': tf.Variable(tf.random_normal([7*7*64, 1024])),\n",
    "    # 1024 inputs, 10 outputs (class prediction)\n",
    "    'out': tf.Variable(tf.random_normal([1024, n_classes]))\n",
    "}\n",
    "\n",
    "biases = {\n",
    "    'bc1': tf.Variable(tf.random_normal([32])),\n",
    "    'bc2': tf.Variable(tf.random_normal([64])),\n",
    "    'bd1': tf.Variable(tf.random_normal([1024])),\n",
    "    'out': tf.Variable(tf.random_normal([n_classes]))\n",
    "}\n",
    "\n",
    "# Construct model\n",
    "pred = conv_net(x, weights, biases, keep_prob)\n",
    "\n",
    "# Define loss and optimizer\n",
    "cost = tf.reduce_mean(tf.nn.softmax_cross_entropy_with_logits(logits=pred, labels=y))\n",
    "optimizer = tf.train.AdamOptimizer(learning_rate=learning_rate).minimize(cost)\n",
    "\n",
    "# Evaluate model\n",
    "correct_pred = tf.equal(tf.argmax(pred, 1), tf.argmax(y, 1))\n",
    "accuracy = tf.reduce_mean(tf.cast(correct_pred, tf.float32))\n",
    "\n",
    "# Initializing the variables\n",
    "init = tf.global_variables_initializer()"
   ]
  },
  {
   "cell_type": "code",
   "execution_count": 10,
   "metadata": {
    "collapsed": false
   },
   "outputs": [
    {
     "name": "stdout",
     "output_type": "stream",
     "text": [
      "Iter 1280, Minibatch Loss= 24361.654297, Training Accuracy= 0.14844\n",
      "Iter 2560, Minibatch Loss= 9601.050781, Training Accuracy= 0.57031\n",
      "Iter 3840, Minibatch Loss= 6754.188965, Training Accuracy= 0.68750\n",
      "Iter 5120, Minibatch Loss= 4874.096680, Training Accuracy= 0.73438\n",
      "Iter 6400, Minibatch Loss= 1783.806519, Training Accuracy= 0.85156\n",
      "Iter 7680, Minibatch Loss= 2411.129883, Training Accuracy= 0.83594\n",
      "Iter 8960, Minibatch Loss= 2502.506592, Training Accuracy= 0.85938\n",
      "Iter 10240, Minibatch Loss= 2119.799072, Training Accuracy= 0.85156\n",
      "Iter 11520, Minibatch Loss= 1528.163330, Training Accuracy= 0.90625\n",
      "Iter 12800, Minibatch Loss= 1354.485840, Training Accuracy= 0.91406\n",
      "Iter 14080, Minibatch Loss= 723.427612, Training Accuracy= 0.92188\n",
      "Iter 15360, Minibatch Loss= 1198.771362, Training Accuracy= 0.90625\n",
      "Iter 16640, Minibatch Loss= 1978.712646, Training Accuracy= 0.92188\n",
      "Iter 17920, Minibatch Loss= 968.514526, Training Accuracy= 0.86719\n",
      "Iter 19200, Minibatch Loss= 1964.318848, Training Accuracy= 0.90625\n",
      "Iter 20480, Minibatch Loss= 971.083252, Training Accuracy= 0.89062\n",
      "Iter 21760, Minibatch Loss= 885.398071, Training Accuracy= 0.90625\n",
      "Iter 23040, Minibatch Loss= 1182.671509, Training Accuracy= 0.91406\n",
      "Iter 24320, Minibatch Loss= 1768.175659, Training Accuracy= 0.88281\n",
      "Iter 25600, Minibatch Loss= 1430.950439, Training Accuracy= 0.90625\n",
      "Iter 26880, Minibatch Loss= 716.311646, Training Accuracy= 0.94531\n",
      "Iter 28160, Minibatch Loss= 655.246094, Training Accuracy= 0.95312\n",
      "Iter 29440, Minibatch Loss= 2063.942871, Training Accuracy= 0.89062\n",
      "Iter 30720, Minibatch Loss= 1261.174683, Training Accuracy= 0.90625\n",
      "Iter 32000, Minibatch Loss= 1043.379761, Training Accuracy= 0.92969\n",
      "Iter 33280, Minibatch Loss= 1232.694946, Training Accuracy= 0.92969\n",
      "Iter 34560, Minibatch Loss= 1456.824585, Training Accuracy= 0.94531\n",
      "Iter 35840, Minibatch Loss= 894.142395, Training Accuracy= 0.92969\n",
      "Iter 37120, Minibatch Loss= 1200.229614, Training Accuracy= 0.92188\n",
      "Iter 38400, Minibatch Loss= 879.013245, Training Accuracy= 0.93750\n",
      "Iter 39680, Minibatch Loss= 473.703796, Training Accuracy= 0.96094\n",
      "Iter 40960, Minibatch Loss= 1401.969238, Training Accuracy= 0.91406\n",
      "Iter 42240, Minibatch Loss= 398.204956, Training Accuracy= 0.96875\n",
      "Iter 43520, Minibatch Loss= 898.383301, Training Accuracy= 0.95312\n",
      "Iter 44800, Minibatch Loss= 732.949707, Training Accuracy= 0.92969\n",
      "Iter 46080, Minibatch Loss= 662.447998, Training Accuracy= 0.92188\n",
      "Iter 47360, Minibatch Loss= 1408.207764, Training Accuracy= 0.92188\n",
      "Iter 48640, Minibatch Loss= 375.493530, Training Accuracy= 0.94531\n",
      "Iter 49920, Minibatch Loss= 302.505554, Training Accuracy= 0.97656\n",
      "Iter 51200, Minibatch Loss= 1512.166992, Training Accuracy= 0.92969\n",
      "Iter 52480, Minibatch Loss= 1286.064453, Training Accuracy= 0.90625\n",
      "Iter 53760, Minibatch Loss= 733.586365, Training Accuracy= 0.94531\n",
      "Iter 55040, Minibatch Loss= 596.743896, Training Accuracy= 0.93750\n",
      "Iter 56320, Minibatch Loss= 1224.649414, Training Accuracy= 0.92969\n",
      "Iter 57600, Minibatch Loss= 521.545532, Training Accuracy= 0.93750\n",
      "Iter 58880, Minibatch Loss= 143.718369, Training Accuracy= 0.97656\n",
      "Iter 60160, Minibatch Loss= 304.310181, Training Accuracy= 0.96094\n",
      "Iter 61440, Minibatch Loss= 406.901672, Training Accuracy= 0.96875\n",
      "Iter 62720, Minibatch Loss= 516.794617, Training Accuracy= 0.95312\n",
      "Iter 64000, Minibatch Loss= 589.196899, Training Accuracy= 0.95312\n",
      "Iter 65280, Minibatch Loss= 307.516479, Training Accuracy= 0.94531\n",
      "Iter 66560, Minibatch Loss= 100.703857, Training Accuracy= 0.96875\n",
      "Iter 67840, Minibatch Loss= 591.898560, Training Accuracy= 0.92969\n",
      "Iter 69120, Minibatch Loss= 110.907501, Training Accuracy= 0.96094\n",
      "Iter 70400, Minibatch Loss= 344.283051, Training Accuracy= 0.93750\n",
      "Iter 71680, Minibatch Loss= 398.309845, Training Accuracy= 0.96094\n",
      "Iter 72960, Minibatch Loss= 462.938782, Training Accuracy= 0.97656\n",
      "Iter 74240, Minibatch Loss= 89.429153, Training Accuracy= 0.97656\n",
      "Iter 75520, Minibatch Loss= 421.110352, Training Accuracy= 0.94531\n",
      "Iter 76800, Minibatch Loss= 153.301193, Training Accuracy= 0.97656\n",
      "Iter 78080, Minibatch Loss= 398.143433, Training Accuracy= 0.96094\n",
      "Iter 79360, Minibatch Loss= 175.894409, Training Accuracy= 0.97656\n",
      "Iter 80640, Minibatch Loss= 242.244614, Training Accuracy= 0.95312\n",
      "Iter 81920, Minibatch Loss= 285.819519, Training Accuracy= 0.95312\n",
      "Iter 83200, Minibatch Loss= 333.443451, Training Accuracy= 0.97656\n",
      "Iter 84480, Minibatch Loss= 327.482330, Training Accuracy= 0.96094\n",
      "Iter 85760, Minibatch Loss= 158.486679, Training Accuracy= 0.98438\n",
      "Iter 87040, Minibatch Loss= 469.318756, Training Accuracy= 0.96094\n",
      "Iter 88320, Minibatch Loss= 732.935791, Training Accuracy= 0.92969\n",
      "Iter 89600, Minibatch Loss= 738.233643, Training Accuracy= 0.95312\n",
      "Iter 90880, Minibatch Loss= 292.791992, Training Accuracy= 0.96875\n",
      "Iter 92160, Minibatch Loss= 109.316727, Training Accuracy= 0.97656\n",
      "Iter 93440, Minibatch Loss= 756.568115, Training Accuracy= 0.92969\n",
      "Iter 94720, Minibatch Loss= 407.194611, Training Accuracy= 0.94531\n",
      "Iter 96000, Minibatch Loss= 493.480286, Training Accuracy= 0.92188\n",
      "Iter 97280, Minibatch Loss= 318.123718, Training Accuracy= 0.97656\n",
      "Iter 98560, Minibatch Loss= 88.161331, Training Accuracy= 0.99219\n",
      "Iter 99840, Minibatch Loss= 228.858932, Training Accuracy= 0.96875\n",
      "Optimization Finished!\n",
      "Testing Accuracy: 0.984375\n"
     ]
    }
   ],
   "source": [
    "# Launch the graph\n",
    "with tf.Session() as sess:\n",
    "    sess.run(init)\n",
    "    step = 1\n",
    "    # Keep training until reach max iterations\n",
    "    while step * batch_size < training_iters:\n",
    "        batch_x, batch_y = mnist.train.next_batch(batch_size)\n",
    "        # Run optimization op (backprop)\n",
    "        sess.run(optimizer, feed_dict={x: batch_x, y: batch_y,\n",
    "                                       keep_prob: dropout})\n",
    "        if step % display_step == 0:\n",
    "            # Calculate batch loss and accuracy\n",
    "            loss, acc = sess.run([cost, accuracy], feed_dict={x: batch_x,\n",
    "                                                              y: batch_y,\n",
    "                                                              keep_prob: 1.})\n",
    "            print \"Iter \" + str(step*batch_size) + \", Minibatch Loss= \" + \\\n",
    "                  \"{:.6f}\".format(loss) + \", Training Accuracy= \" + \\\n",
    "                  \"{:.5f}\".format(acc)\n",
    "        step += 1\n",
    "    print \"Optimization Finished!\"\n",
    "\n",
    "    # Calculate accuracy for 256 mnist test images\n",
    "    print \"Testing Accuracy:\", \\\n",
    "        sess.run(accuracy, feed_dict={x: mnist.test.images[:256],\n",
    "                                      y: mnist.test.labels[:256],\n",
    "                                      keep_prob: 1.})"
   ]
  },
  {
   "cell_type": "markdown",
   "metadata": {
    "collapsed": true
   },
   "source": [
    "[GitHub](https://github.com/PeterSansan) , [Blog](http://petersansan.top/)"
   ]
  }
 ],
 "metadata": {
  "kernelspec": {
   "display_name": "Python 2",
   "language": "python",
   "name": "python2"
  },
  "language_info": {
   "codemirror_mode": {
    "name": "ipython",
    "version": 2
   },
   "file_extension": ".py",
   "mimetype": "text/x-python",
   "name": "python",
   "nbconvert_exporter": "python",
   "pygments_lexer": "ipython2",
   "version": "2.7.6"
  }
 },
 "nbformat": 4,
 "nbformat_minor": 0
}
